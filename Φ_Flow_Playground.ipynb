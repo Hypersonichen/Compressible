{
  "nbformat": 4,
  "nbformat_minor": 0,
  "metadata": {
    "colab": {
      "name": "Φ-Flow Playground.ipynb",
      "provenance": [],
      "collapsed_sections": [],
      "include_colab_link": true
    },
    "kernelspec": {
      "name": "python3",
      "display_name": "Python 3"
    }
  },
  "cells": [
    {
      "cell_type": "markdown",
      "metadata": {
        "id": "view-in-github",
        "colab_type": "text"
      },
      "source": [
        "<a href=\"https://colab.research.google.com/github/Hypersonichen/Compressible/blob/master/%CE%A6_Flow_Playground.ipynb\" target=\"_parent\"><img src=\"https://colab.research.google.com/assets/colab-badge.svg\" alt=\"Open In Colab\"/></a>"
      ]
    },
    {
      "cell_type": "markdown",
      "metadata": {
        "id": "jpZVKRrOLKt1"
      },
      "source": [
        "# Φ<sub>Flow</sub> Playground\n",
        "\n",
        "This notebook lets you experiment with [Φ-Flow](https://github.com/tum-pbs/PhiFlow).\n",
        "\n",
        "[**Documentation**](https://tum-pbs.github.io/PhiFlow/)\n",
        "&nbsp;&nbsp;&nbsp; [**API**](https://tum-pbs.github.io/PhiFlow/phi)\n",
        "&nbsp;&nbsp;&nbsp; [**Demos**](https://github.com/tum-pbs/PhiFlow/tree/develop/demos)"
      ]
    },
    {
      "cell_type": "code",
      "metadata": {
        "id": "ln5JJXpHLYjT",
        "colab": {
          "base_uri": "https://localhost:8080/"
        },
        "outputId": "f4f47cbf-ae08-45ca-8a65-aeb67cbcd71f"
      },
      "source": [
        "# !pip install --upgrade --quiet phiflow  # Install stable release\n",
        "!pip install --upgrade --quiet git+https://github.com/tum-pbs/PhiFlow@develop  # Install latest version, might be unstable"
      ],
      "execution_count": 1,
      "outputs": [
        {
          "output_type": "stream",
          "text": [
            "\u001b[K     |████████████████████████████████| 81kB 3.9MB/s \n",
            "\u001b[K     |████████████████████████████████| 1.0MB 8.8MB/s \n",
            "\u001b[K     |████████████████████████████████| 3.5MB 37.5MB/s \n",
            "\u001b[K     |████████████████████████████████| 194kB 49.8MB/s \n",
            "\u001b[K     |████████████████████████████████| 1.8MB 36.4MB/s \n",
            "\u001b[K     |████████████████████████████████| 358kB 49.9MB/s \n",
            "\u001b[?25h  Building wheel for phiflow (setup.py) ... \u001b[?25l\u001b[?25hdone\n",
            "  Building wheel for dash (setup.py) ... \u001b[?25l\u001b[?25hdone\n",
            "  Building wheel for flask-compress (setup.py) ... \u001b[?25l\u001b[?25hdone\n",
            "  Building wheel for dash-renderer (setup.py) ... \u001b[?25l\u001b[?25hdone\n",
            "  Building wheel for dash-core-components (setup.py) ... \u001b[?25l\u001b[?25hdone\n",
            "  Building wheel for dash-html-components (setup.py) ... \u001b[?25l\u001b[?25hdone\n",
            "  Building wheel for dash-table (setup.py) ... \u001b[?25l\u001b[?25hdone\n"
          ],
          "name": "stdout"
        }
      ]
    },
    {
      "cell_type": "code",
      "metadata": {
        "id": "WKfegCz9LF4Q"
      },
      "source": [
        "# from phi.flow import *\r\n",
        "# from phi.tf.flow import *\r\n",
        "from phi.torch.flow import *\r\n",
        "# from phi.jax.flow import *"
      ],
      "execution_count": 2,
      "outputs": []
    },
    {
      "cell_type": "code",
      "metadata": {
        "id": "W3xofapMLkoA"
      },
      "source": [
        "t = math.tensor([0,1])"
      ],
      "execution_count": 8,
      "outputs": []
    },
    {
      "cell_type": "code",
      "metadata": {
        "colab": {
          "base_uri": "https://localhost:8080/"
        },
        "id": "aV8_gg4RfhvC",
        "outputId": "151a7ab1-6b28-48b8-f28b-158047fcbdb5"
      },
      "source": [
        "type(t.native())"
      ],
      "execution_count": 9,
      "outputs": [
        {
          "output_type": "execute_result",
          "data": {
            "text/plain": [
              "torch.Tensor"
            ]
          },
          "metadata": {
            "tags": []
          },
          "execution_count": 9
        }
      ]
    },
    {
      "cell_type": "code",
      "metadata": {
        "id": "ayOJOI6bfj9R"
      },
      "source": [
        "t1 = math.wrap(1)"
      ],
      "execution_count": 10,
      "outputs": []
    },
    {
      "cell_type": "code",
      "metadata": {
        "colab": {
          "base_uri": "https://localhost:8080/"
        },
        "id": "-ASuVW80f9A6",
        "outputId": "143f122a-1328-40e5-caa1-aec8084ec9e9"
      },
      "source": [
        "type(t1)"
      ],
      "execution_count": 11,
      "outputs": [
        {
          "output_type": "execute_result",
          "data": {
            "text/plain": [
              "phi.math._tensors.NativeTensor"
            ]
          },
          "metadata": {
            "tags": []
          },
          "execution_count": 11
        }
      ]
    },
    {
      "cell_type": "code",
      "metadata": {
        "id": "7RBJK30lf9z7"
      },
      "source": [
        "test=math.random_normal(x=32, y=32)"
      ],
      "execution_count": 14,
      "outputs": []
    },
    {
      "cell_type": "code",
      "metadata": {
        "colab": {
          "base_uri": "https://localhost:8080/"
        },
        "id": "sOzLp_MZgGP0",
        "outputId": "c310e4f9-e91c-4217-b8d2-cab2c5c766eb"
      },
      "source": [
        "test.shape"
      ],
      "execution_count": 15,
      "outputs": [
        {
          "output_type": "execute_result",
          "data": {
            "text/plain": [
              "(x=32, y=32)"
            ]
          },
          "metadata": {
            "tags": []
          },
          "execution_count": 15
        }
      ]
    },
    {
      "cell_type": "code",
      "metadata": {
        "colab": {
          "base_uri": "https://localhost:8080/"
        },
        "id": "NodhPmL3gLys",
        "outputId": "f5e84f91-a57a-4894-9b23-9c37f8d6e96b"
      },
      "source": [
        "math.pi/32"
      ],
      "execution_count": 16,
      "outputs": [
        {
          "output_type": "execute_result",
          "data": {
            "text/plain": [
              "0.09817477042468103"
            ]
          },
          "metadata": {
            "tags": []
          },
          "execution_count": 16
        }
      ]
    },
    {
      "cell_type": "code",
      "metadata": {
        "colab": {
          "base_uri": "https://localhost:8080/"
        },
        "id": "__i2swhBgTw8",
        "outputId": "ed3eee99-4edb-46de-b271-2e1bf0b5f257"
      },
      "source": [
        "32/math.pi"
      ],
      "execution_count": 17,
      "outputs": [
        {
          "output_type": "execute_result",
          "data": {
            "text/plain": [
              "10.185916357881302"
            ]
          },
          "metadata": {
            "tags": []
          },
          "execution_count": 17
        }
      ]
    },
    {
      "cell_type": "code",
      "metadata": {
        "colab": {
          "base_uri": "https://localhost:8080/"
        },
        "id": "jsuGs6HCgU2L",
        "outputId": "3e3d83ad-54d5-434f-8953-cb8956976f52"
      },
      "source": [
        "test.x[0:10].y[:10].z[0]"
      ],
      "execution_count": 24,
      "outputs": [
        {
          "output_type": "execute_result",
          "data": {
            "text/plain": [
              "(x=10, y=10) float32  -2.4650888 < ... < 2.7723463"
            ]
          },
          "metadata": {
            "tags": []
          },
          "execution_count": 24
        }
      ]
    },
    {
      "cell_type": "code",
      "metadata": {
        "colab": {
          "base_uri": "https://localhost:8080/"
        },
        "id": "6kZcz6v4gY_M",
        "outputId": "c3485482-6465-46bb-8d60-714b89f23048"
      },
      "source": [
        "t.numpy()"
      ],
      "execution_count": 19,
      "outputs": [
        {
          "output_type": "execute_result",
          "data": {
            "text/plain": [
              "array([0, 1])"
            ]
          },
          "metadata": {
            "tags": []
          },
          "execution_count": 19
        }
      ]
    },
    {
      "cell_type": "code",
      "metadata": {
        "id": "NwZMNw74g-4-"
      },
      "source": [
        "from phi.jax import JAX_BACKEND"
      ],
      "execution_count": 20,
      "outputs": []
    },
    {
      "cell_type": "code",
      "metadata": {
        "colab": {
          "base_uri": "https://localhost:8080/"
        },
        "id": "GjfejRvRhCT2",
        "outputId": "d837af4f-d22e-47b6-d79f-4e4b7f8b0ec2"
      },
      "source": [
        "with JAX_BACKEND:\n",
        "  jax_tensor = math.tensor(t)\n",
        "  print(type(jax_tensor.native()))"
      ],
      "execution_count": 23,
      "outputs": [
        {
          "output_type": "stream",
          "text": [
            "<class 'jax.interpreters.xla._DeviceArray'>\n"
          ],
          "name": "stdout"
        }
      ]
    },
    {
      "cell_type": "code",
      "metadata": {
        "colab": {
          "base_uri": "https://localhost:8080/"
        },
        "id": "lyP0_rtqhGAP",
        "outputId": "6696ebd0-ff82-4560-a8c8-effce98071ae"
      },
      "source": [
        "test.native('x,y')"
      ],
      "execution_count": 25,
      "outputs": [
        {
          "output_type": "execute_result",
          "data": {
            "text/plain": [
              "tensor([[-0.1062, -0.1666,  1.1937,  ..., -0.7968, -0.9973, -0.1954],\n",
              "        [-0.0250,  0.0817, -0.7057,  ..., -0.2638,  0.7199,  0.5312],\n",
              "        [-0.2402,  0.6309, -0.5430,  ..., -0.7645,  0.1271,  1.8892],\n",
              "        ...,\n",
              "        [-1.5072, -0.7985,  0.9056,  ..., -0.2468,  2.3074, -0.4130],\n",
              "        [ 0.3291,  0.3808, -0.7617,  ..., -0.1189, -0.0062,  0.0268],\n",
              "        [-0.6028,  0.1265, -0.2823,  ...,  0.1716,  0.7902, -0.1439]])"
            ]
          },
          "metadata": {
            "tags": []
          },
          "execution_count": 25
        }
      ]
    },
    {
      "cell_type": "code",
      "metadata": {
        "colab": {
          "base_uri": "https://localhost:8080/"
        },
        "id": "aU0RfWF6hfjS",
        "outputId": "8f5feef6-0976-401a-e07d-d92cf8a56753"
      },
      "source": [
        "math.join_dimensions(test, ['x', 'y'], 's')"
      ],
      "execution_count": 26,
      "outputs": [
        {
          "output_type": "execute_result",
          "data": {
            "text/plain": [
              "(s=1024) float32  -2.6828732 < ... < 3.591998"
            ]
          },
          "metadata": {
            "tags": []
          },
          "execution_count": 26
        }
      ]
    },
    {
      "cell_type": "code",
      "metadata": {
        "colab": {
          "base_uri": "https://localhost:8080/"
        },
        "id": "CBF3QuRchuZJ",
        "outputId": "45fa5273-4ed4-479c-8f6b-cbbb6e99f962"
      },
      "source": [
        "math.expand_batch(test, 'batch', 10)"
      ],
      "execution_count": 28,
      "outputs": [
        {
          "output_type": "execute_result",
          "data": {
            "text/plain": [
              "(batch=10, x=32, y=32), failed to fetch values with error Shape (x=32, y=32) does not contain dimension with name 'batch'"
            ]
          },
          "metadata": {
            "tags": []
          },
          "execution_count": 28
        }
      ]
    },
    {
      "cell_type": "code",
      "metadata": {
        "colab": {
          "base_uri": "https://localhost:8080/"
        },
        "id": "HQYe0Y3Ihy05",
        "outputId": "e3b690aa-c2b2-4e4e-9381-3e52ab7896c9"
      },
      "source": [
        "math.exp(test)"
      ],
      "execution_count": 30,
      "outputs": [
        {
          "output_type": "execute_result",
          "data": {
            "text/plain": [
              "(x=32, y=32) float32  0.06836644 < ... < 36.30655"
            ]
          },
          "metadata": {
            "tags": []
          },
          "execution_count": 30
        }
      ]
    },
    {
      "cell_type": "code",
      "metadata": {
        "colab": {
          "base_uri": "https://localhost:8080/"
        },
        "id": "cTYkSSgMh4xp",
        "outputId": "76e02e4f-dd42-48a7-e8f3-0ec08f5ef6be"
      },
      "source": [
        "math.zeros(x=5)"
      ],
      "execution_count": 31,
      "outputs": [
        {
          "output_type": "execute_result",
          "data": {
            "text/plain": [
              "(0.0, 0.0, 0.0, 0.0, 0.0) along x"
            ]
          },
          "metadata": {
            "tags": []
          },
          "execution_count": 31
        }
      ]
    },
    {
      "cell_type": "code",
      "metadata": {
        "id": "m_GgLrM4ijCM"
      },
      "source": [
        "t2=math.zeros(x=5) * math.ones(y=5)"
      ],
      "execution_count": 33,
      "outputs": []
    },
    {
      "cell_type": "code",
      "metadata": {
        "colab": {
          "base_uri": "https://localhost:8080/"
        },
        "id": "9rqmwN8lim4c",
        "outputId": "ac61cb54-1500-4782-f43f-cc0c395c5c57"
      },
      "source": [
        "type(t2)"
      ],
      "execution_count": 34,
      "outputs": [
        {
          "output_type": "execute_result",
          "data": {
            "text/plain": [
              "phi.math._tensors.CollapsedTensor"
            ]
          },
          "metadata": {
            "tags": []
          },
          "execution_count": 34
        }
      ]
    },
    {
      "cell_type": "code",
      "metadata": {
        "colab": {
          "base_uri": "https://localhost:8080/"
        },
        "id": "3QsWn4wpiroj",
        "outputId": "803ee41c-7b98-4888-966a-65051b85ca5f"
      },
      "source": [
        "CenteredGrid(t, Box[0:1, 0:1])"
      ],
      "execution_count": 35,
      "outputs": [
        {
          "output_type": "execute_result",
          "data": {
            "text/plain": [
              "CenteredGrid[(vector=2), size=(1, 1) along vector, extrapolation=0]"
            ]
          },
          "metadata": {
            "tags": []
          },
          "execution_count": 35
        }
      ]
    },
    {
      "cell_type": "code",
      "metadata": {
        "id": "5UgHZ1Rpivg8"
      },
      "source": [
        "d = Domain(x=32, y=32, bounds=Box[0:32, 0:32], boundaries=OPEN)"
      ],
      "execution_count": 56,
      "outputs": []
    },
    {
      "cell_type": "code",
      "metadata": {
        "colab": {
          "base_uri": "https://localhost:8080/"
        },
        "id": "whBlDFSGjSve",
        "outputId": "5a812e9d-6b22-41d8-d56b-ef433b0f659c"
      },
      "source": [
        "d.scalar_grid(0)"
      ],
      "execution_count": 38,
      "outputs": [
        {
          "output_type": "execute_result",
          "data": {
            "text/plain": [
              "CenteredGrid[(x=32, y=32), size=(32, 32) along vector, extrapolation=0]"
            ]
          },
          "metadata": {
            "tags": []
          },
          "execution_count": 38
        }
      ]
    },
    {
      "cell_type": "code",
      "metadata": {
        "colab": {
          "base_uri": "https://localhost:8080/"
        },
        "id": "hKTk1Pv6jbiX",
        "outputId": "d21d2124-e3a7-4c34-be33-206e0bc092a7"
      },
      "source": [
        "d.staggered_grid(0)"
      ],
      "execution_count": 39,
      "outputs": [
        {
          "output_type": "execute_result",
          "data": {
            "text/plain": [
              "StaggeredGrid[(x=32, y=32, vector=2), size=(32, 32) along vector, extrapolation=0]"
            ]
          },
          "metadata": {
            "tags": []
          },
          "execution_count": 39
        }
      ]
    },
    {
      "cell_type": "code",
      "metadata": {
        "colab": {
          "base_uri": "https://localhost:8080/"
        },
        "id": "RZhBQPg5jdev",
        "outputId": "33a2e922-c5cd-4fea-ea1f-5ef9479da777"
      },
      "source": [
        "OPEN"
      ],
      "execution_count": 40,
      "outputs": [
        {
          "output_type": "execute_result",
          "data": {
            "text/plain": [
              "{'accessible_extrapolation': 1,\n",
              " 'active_extrapolation': 0,\n",
              " 'near_vector_extrapolation': boundary,\n",
              " 'scalar_extrapolation': 0,\n",
              " 'vector_extrapolation': 0}"
            ]
          },
          "metadata": {
            "tags": []
          },
          "execution_count": 40
        }
      ]
    },
    {
      "cell_type": "code",
      "metadata": {
        "colab": {
          "base_uri": "https://localhost:8080/"
        },
        "id": "sP6j2t4ljkjv",
        "outputId": "c9204cab-d8ef-4a13-d896-7d41a4d857d3"
      },
      "source": [
        "CLOSED"
      ],
      "execution_count": 41,
      "outputs": [
        {
          "output_type": "execute_result",
          "data": {
            "text/plain": [
              "{'accessible_extrapolation': 0,\n",
              " 'active_extrapolation': 0,\n",
              " 'near_vector_extrapolation': 0,\n",
              " 'scalar_extrapolation': boundary,\n",
              " 'vector_extrapolation': boundary}"
            ]
          },
          "metadata": {
            "tags": []
          },
          "execution_count": 41
        }
      ]
    },
    {
      "cell_type": "code",
      "metadata": {
        "colab": {
          "base_uri": "https://localhost:8080/"
        },
        "id": "JFExBY5Ejn1W",
        "outputId": "1941c8da-c7ad-4e11-d0ab-7112025a1fb4"
      },
      "source": [
        "PERIODIC"
      ],
      "execution_count": 42,
      "outputs": [
        {
          "output_type": "execute_result",
          "data": {
            "text/plain": [
              "{'accessible_extrapolation': 1,\n",
              " 'active_extrapolation': 1,\n",
              " 'near_vector_extrapolation': periodic,\n",
              " 'scalar_extrapolation': periodic,\n",
              " 'vector_extrapolation': periodic}"
            ]
          },
          "metadata": {
            "tags": []
          },
          "execution_count": 42
        }
      ]
    },
    {
      "cell_type": "markdown",
      "metadata": {
        "id": "q4qGIU11kHoU"
      },
      "source": [
        "We can easily define our own bc"
      ]
    },
    {
      "cell_type": "code",
      "metadata": {
        "id": "6iAG3zyCkK8p"
      },
      "source": [
        "from phi.physics._boundaries import STICKY"
      ],
      "execution_count": 43,
      "outputs": []
    },
    {
      "cell_type": "code",
      "metadata": {
        "colab": {
          "base_uri": "https://localhost:8080/"
        },
        "id": "UJxDRY6ukV97",
        "outputId": "92682137-0762-4126-a07c-82aad3e234ea"
      },
      "source": [
        "STICKY"
      ],
      "execution_count": 44,
      "outputs": [
        {
          "output_type": "execute_result",
          "data": {
            "text/plain": [
              "{'accessible_extrapolation': 0,\n",
              " 'active_extrapolation': 0,\n",
              " 'near_vector_extrapolation': 0,\n",
              " 'scalar_extrapolation': boundary,\n",
              " 'vector_extrapolation': 0}"
            ]
          },
          "metadata": {
            "tags": []
          },
          "execution_count": 44
        }
      ]
    },
    {
      "cell_type": "code",
      "metadata": {
        "colab": {
          "base_uri": "https://localhost:8080/"
        },
        "id": "UrhgMigskW_C",
        "outputId": "eb08ebb4-cdac-41fc-b869-49d65b57c28b"
      },
      "source": [
        "d.scalar_grid(Noise())"
      ],
      "execution_count": 45,
      "outputs": [
        {
          "output_type": "stream",
          "text": [
            "/usr/local/lib/python3.7/dist-packages/phi/math/backend/_numpy_backend.py:232: RuntimeWarning:\n",
            "\n",
            "overflow encountered in exp\n",
            "\n"
          ],
          "name": "stderr"
        },
        {
          "output_type": "execute_result",
          "data": {
            "text/plain": [
              "CenteredGrid[(x=32, y=32), size=(32, 32) along vector, extrapolation=0]"
            ]
          },
          "metadata": {
            "tags": []
          },
          "execution_count": 45
        }
      ]
    },
    {
      "cell_type": "code",
      "metadata": {
        "colab": {
          "base_uri": "https://localhost:8080/"
        },
        "id": "sWsgdwY8ksiq",
        "outputId": "8f82f69d-fa19-4153-c59d-9e65e7ec521f"
      },
      "source": [
        "d.scalar_grid(Sphere([0,0],1))"
      ],
      "execution_count": 46,
      "outputs": [
        {
          "output_type": "execute_result",
          "data": {
            "text/plain": [
              "CenteredGrid[(x=32, y=32), size=(32, 32) along vector, extrapolation=0]"
            ]
          },
          "metadata": {
            "tags": []
          },
          "execution_count": 46
        }
      ]
    },
    {
      "cell_type": "code",
      "metadata": {
        "colab": {
          "base_uri": "https://localhost:8080/"
        },
        "id": "2C9TZibvkxYG",
        "outputId": "85bd179a-13f9-43ab-ac93-cce98e903535"
      },
      "source": [
        "velocity = d.staggered_grid(Noise(vector=2))"
      ],
      "execution_count": 57,
      "outputs": [
        {
          "output_type": "stream",
          "text": [
            "/usr/local/lib/python3.7/dist-packages/phi/math/backend/_numpy_backend.py:232: RuntimeWarning:\n",
            "\n",
            "overflow encountered in exp\n",
            "\n"
          ],
          "name": "stderr"
        }
      ]
    },
    {
      "cell_type": "markdown",
      "metadata": {
        "id": "3vu0Z9r9l1Br"
      },
      "source": [
        "the above overflow problem can be ignored"
      ]
    },
    {
      "cell_type": "code",
      "metadata": {
        "colab": {
          "base_uri": "https://localhost:8080/"
        },
        "id": "4NsqNC2dlURO",
        "outputId": "6144441a-9725-4fea-c876-5d990122b12c"
      },
      "source": [
        "advect.mac_cormack(velocity, velocity, dt=1)"
      ],
      "execution_count": 58,
      "outputs": [
        {
          "output_type": "execute_result",
          "data": {
            "text/plain": [
              "StaggeredGrid[(x=32, y=32, vector=2), size=(32, 32) along vector, extrapolation=0]"
            ]
          },
          "metadata": {
            "tags": []
          },
          "execution_count": 58
        }
      ]
    },
    {
      "cell_type": "code",
      "metadata": {
        "colab": {
          "base_uri": "https://localhost:8080/"
        },
        "id": "kg6--AmelZkW",
        "outputId": "e360ef69-4f03-40ac-bbf2-86b32a05b6b8"
      },
      "source": [
        "diffuse.explicit(velocity, 1.0, dt=1.0)"
      ],
      "execution_count": 59,
      "outputs": [
        {
          "output_type": "execute_result",
          "data": {
            "text/plain": [
              "StaggeredGrid[(x=32, y=32, vector=2), size=(32, 32) along vector, extrapolation=0]"
            ]
          },
          "metadata": {
            "tags": []
          },
          "execution_count": 59
        }
      ]
    },
    {
      "cell_type": "code",
      "metadata": {
        "id": "OeRr7jPdoOcG"
      },
      "source": [
        "from phi.flow import *"
      ],
      "execution_count": 65,
      "outputs": []
    },
    {
      "cell_type": "code",
      "metadata": {
        "colab": {
          "base_uri": "https://localhost:8080/",
          "height": 361
        },
        "id": "z03Z2ZKWmut4",
        "outputId": "a82ba5ec-40a0-4f0b-bbcc-226377b53694"
      },
      "source": [
        "for i in ModuleViewer().range():\n",
        "  velocity = advect.mac_cormack(velocity, velocity, 1)\n",
        "  velocity, _, _, _ = fluid.make_incompressible(velocity, d)\n",
        "  velocity = diffuse.explicit(velocity, 0.1, 1)"
      ],
      "execution_count": 134,
      "outputs": [
        {
          "output_type": "error",
          "ename": "AttributeError",
          "evalue": "ignored",
          "traceback": [
            "\u001b[0;31m---------------------------------------------------------------------------\u001b[0m",
            "\u001b[0;31mAttributeError\u001b[0m                            Traceback (most recent call last)",
            "\u001b[0;32m<ipython-input-134-f42653c6dc19>\u001b[0m in \u001b[0;36m<module>\u001b[0;34m()\u001b[0m\n\u001b[0;32m----> 1\u001b[0;31m \u001b[0;32mfor\u001b[0m \u001b[0mi\u001b[0m \u001b[0;32min\u001b[0m \u001b[0mModuleViewer\u001b[0m\u001b[0;34m(\u001b[0m\u001b[0;34m)\u001b[0m\u001b[0;34m.\u001b[0m\u001b[0mrange\u001b[0m\u001b[0;34m(\u001b[0m\u001b[0;34m)\u001b[0m\u001b[0;34m:\u001b[0m\u001b[0;34m\u001b[0m\u001b[0;34m\u001b[0m\u001b[0m\n\u001b[0m\u001b[1;32m      2\u001b[0m   \u001b[0mvelocity\u001b[0m \u001b[0;34m=\u001b[0m \u001b[0madvect\u001b[0m\u001b[0;34m.\u001b[0m\u001b[0mmac_cormack\u001b[0m\u001b[0;34m(\u001b[0m\u001b[0mvelocity\u001b[0m\u001b[0;34m,\u001b[0m \u001b[0mvelocity\u001b[0m\u001b[0;34m,\u001b[0m \u001b[0;36m1\u001b[0m\u001b[0;34m)\u001b[0m\u001b[0;34m\u001b[0m\u001b[0;34m\u001b[0m\u001b[0m\n\u001b[1;32m      3\u001b[0m   \u001b[0mvelocity\u001b[0m\u001b[0;34m,\u001b[0m \u001b[0m_\u001b[0m\u001b[0;34m,\u001b[0m \u001b[0m_\u001b[0m\u001b[0;34m,\u001b[0m \u001b[0m_\u001b[0m \u001b[0;34m=\u001b[0m \u001b[0mfluid\u001b[0m\u001b[0;34m.\u001b[0m\u001b[0mmake_incompressible\u001b[0m\u001b[0;34m(\u001b[0m\u001b[0mvelocity\u001b[0m\u001b[0;34m,\u001b[0m \u001b[0md\u001b[0m\u001b[0;34m)\u001b[0m\u001b[0;34m\u001b[0m\u001b[0;34m\u001b[0m\u001b[0m\n\u001b[1;32m      4\u001b[0m   \u001b[0mvelocity\u001b[0m \u001b[0;34m=\u001b[0m \u001b[0mdiffuse\u001b[0m\u001b[0;34m.\u001b[0m\u001b[0mexplicit\u001b[0m\u001b[0;34m(\u001b[0m\u001b[0mvelocity\u001b[0m\u001b[0;34m,\u001b[0m \u001b[0;36m0.1\u001b[0m\u001b[0;34m,\u001b[0m \u001b[0;36m1\u001b[0m\u001b[0;34m)\u001b[0m\u001b[0;34m\u001b[0m\u001b[0;34m\u001b[0m\u001b[0m\n",
            "\u001b[0;32m/usr/local/lib/python3.7/dist-packages/phi/app/_module_app.py\u001b[0m in \u001b[0;36m__init__\u001b[0;34m(self, fields, stride, base_dir, summary, custom_properties, target_scene, objects_to_save, framerate, dt, **show_config)\u001b[0m\n\u001b[1;32m     44\u001b[0m         \u001b[0mdoc\u001b[0m \u001b[0;34m=\u001b[0m \u001b[0mmodule\u001b[0m\u001b[0;34m.\u001b[0m\u001b[0m__doc__\u001b[0m\u001b[0;34m\u001b[0m\u001b[0;34m\u001b[0m\u001b[0m\n\u001b[1;32m     45\u001b[0m         \u001b[0;32mif\u001b[0m \u001b[0mdoc\u001b[0m \u001b[0;32mis\u001b[0m \u001b[0;32mNone\u001b[0m\u001b[0;34m:\u001b[0m\u001b[0;34m\u001b[0m\u001b[0;34m\u001b[0m\u001b[0m\n\u001b[0;32m---> 46\u001b[0;31m             \u001b[0mname\u001b[0m \u001b[0;34m=\u001b[0m \u001b[0mos\u001b[0m\u001b[0;34m.\u001b[0m\u001b[0mpath\u001b[0m\u001b[0;34m.\u001b[0m\u001b[0mbasename\u001b[0m\u001b[0;34m(\u001b[0m\u001b[0mmodule\u001b[0m\u001b[0;34m.\u001b[0m\u001b[0m__file__\u001b[0m\u001b[0;34m)\u001b[0m\u001b[0;34m[\u001b[0m\u001b[0;34m:\u001b[0m\u001b[0;34m-\u001b[0m\u001b[0;36m3\u001b[0m\u001b[0;34m]\u001b[0m\u001b[0;34m\u001b[0m\u001b[0;34m\u001b[0m\u001b[0m\n\u001b[0m\u001b[1;32m     47\u001b[0m             \u001b[0msubtitle\u001b[0m \u001b[0;34m=\u001b[0m \u001b[0mmodule\u001b[0m\u001b[0;34m.\u001b[0m\u001b[0m__doc__\u001b[0m \u001b[0;32mor\u001b[0m \u001b[0mmodule\u001b[0m\u001b[0;34m.\u001b[0m\u001b[0m__file__\u001b[0m\u001b[0;34m\u001b[0m\u001b[0;34m\u001b[0m\u001b[0m\n\u001b[1;32m     48\u001b[0m         \u001b[0;32melse\u001b[0m\u001b[0;34m:\u001b[0m\u001b[0;34m\u001b[0m\u001b[0;34m\u001b[0m\u001b[0m\n",
            "\u001b[0;31mAttributeError\u001b[0m: 'NoneType' object has no attribute '__file__'"
          ]
        }
      ]
    },
    {
      "cell_type": "code",
      "metadata": {
        "id": "U2WatusXm0vs"
      },
      "source": [
        "from phi.field.plt import plot"
      ],
      "execution_count": 61,
      "outputs": []
    },
    {
      "cell_type": "code",
      "metadata": {
        "colab": {
          "base_uri": "https://localhost:8080/",
          "height": 474
        },
        "id": "l3QPOM_PnKrl",
        "outputId": "9b0d8ff7-1935-4452-db12-1ff5b26734f4"
      },
      "source": [
        "plot(velocity)"
      ],
      "execution_count": 112,
      "outputs": [
        {
          "output_type": "execute_result",
          "data": {
            "text/plain": [
              "(<Figure size 864x360 with 4 Axes>,\n",
              " array([<matplotlib.axes._subplots.AxesSubplot object at 0x7f1bb19c2390>,\n",
              "        <matplotlib.axes._subplots.AxesSubplot object at 0x7f1be6e876d0>,\n",
              "        <matplotlib.axes._subplots.AxesSubplot object at 0x7f1bb19321d0>,\n",
              "        <matplotlib.axes._subplots.AxesSubplot object at 0x7f1bb18e4750>],\n",
              "       dtype=object))"
            ]
          },
          "metadata": {
            "tags": []
          },
          "execution_count": 112
        },
        {
          "output_type": "display_data",
          "data": {
            "image/png": "[encoded data removed]",
            "text/plain": [
              "<Figure size 864x360 with 4 Axes>"
            ]
          },
          "metadata": {
            "tags": [],
            "needs_background": "light"
          }
        }
      ]
    },
    {
      "cell_type": "code",
      "metadata": {
        "colab": {
          "base_uri": "https://localhost:8080/"
        },
        "id": "3gwRlF0CnME9",
        "outputId": "4c0d4f2a-269b-4926-ef0d-1c9411bc1303"
      },
      "source": [
        "velocity"
      ],
      "execution_count": 67,
      "outputs": [
        {
          "output_type": "execute_result",
          "data": {
            "text/plain": [
              "StaggeredGrid[(x=32, y=32, vector=2), size=(32, 32) along vector, extrapolation=0]"
            ]
          },
          "metadata": {
            "tags": []
          },
          "execution_count": 67
        }
      ]
    },
    {
      "cell_type": "markdown",
      "metadata": {
        "id": "IWqWREkvocZX"
      },
      "source": [
        "see here this is the \"complex\" staggered grid values:"
      ]
    },
    {
      "cell_type": "code",
      "metadata": {
        "colab": {
          "base_uri": "https://localhost:8080/"
        },
        "id": "FZSPV7aPoWwy",
        "outputId": "b24a0df2-8ba1-4fe6-ffc0-8f2b91626958"
      },
      "source": [
        "velocity.values"
      ],
      "execution_count": 68,
      "outputs": [
        {
          "output_type": "execute_result",
          "data": {
            "text/plain": [
              "(x=(33, 32) along vector, y=(32, 33) along vector, vector=2) float32  -1.9910662 < ... < 1.5109298"
            ]
          },
          "metadata": {
            "tags": []
          },
          "execution_count": 68
        }
      ]
    },
    {
      "cell_type": "code",
      "metadata": {
        "colab": {
          "base_uri": "https://localhost:8080/"
        },
        "id": "ORqc15HtoaVT",
        "outputId": "9eab57db-d637-4da7-8053-9458552d3083"
      },
      "source": [
        "velocity.with_(values=math.sin(velocity.values))"
      ],
      "execution_count": 69,
      "outputs": [
        {
          "output_type": "execute_result",
          "data": {
            "text/plain": [
              "StaggeredGrid[(x=32, y=32, vector=2), size=(32, 32) along vector, extrapolation=0]"
            ]
          },
          "metadata": {
            "tags": []
          },
          "execution_count": 69
        }
      ]
    },
    {
      "cell_type": "code",
      "metadata": {
        "colab": {
          "base_uri": "https://localhost:8080/"
        },
        "id": "R4uBqcpHosl5",
        "outputId": "b6b2e6f1-1733-4c0b-d2ad-2fb141a88c19"
      },
      "source": [
        "velocity.at(d.scalar_grid())"
      ],
      "execution_count": 71,
      "outputs": [
        {
          "output_type": "execute_result",
          "data": {
            "text/plain": [
              "CenteredGrid[(x=32, y=32, vector=2), size=(32, 32) along vector, extrapolation=0]"
            ]
          },
          "metadata": {
            "tags": []
          },
          "execution_count": 71
        }
      ]
    },
    {
      "cell_type": "code",
      "metadata": {
        "colab": {
          "base_uri": "https://localhost:8080/"
        },
        "id": "NEoU0nBoo41C",
        "outputId": "59eecbd8-f461-47bd-bbd0-f2b15e47e559"
      },
      "source": [
        "velocity >> d.scalar_grid()"
      ],
      "execution_count": 72,
      "outputs": [
        {
          "output_type": "execute_result",
          "data": {
            "text/plain": [
              "CenteredGrid[(x=32, y=32, vector=2), size=(32, 32) along vector, extrapolation=0]"
            ]
          },
          "metadata": {
            "tags": []
          },
          "execution_count": 72
        }
      ]
    },
    {
      "cell_type": "code",
      "metadata": {
        "colab": {
          "base_uri": "https://localhost:8080/"
        },
        "id": "_maZCzC1pAuM",
        "outputId": "8ff08dc5-6555-4211-aa4a-654b9e7d498d"
      },
      "source": [
        "backend.default_backend()"
      ],
      "execution_count": 86,
      "outputs": [
        {
          "output_type": "execute_result",
          "data": {
            "text/plain": [
              "PyTorch"
            ]
          },
          "metadata": {
            "tags": []
          },
          "execution_count": 86
        }
      ]
    },
    {
      "cell_type": "code",
      "metadata": {
        "id": "J_I4Z0PLpJ7c"
      },
      "source": [
        "#from phi.tf import TF_BACKEND\n",
        "from phi.torch import TORCH_BACKEND\n",
        "#from phi.jax import JAX_BACKEND\n",
        "backend.set_global_default_backend(TORCH_BACKEND)"
      ],
      "execution_count": 85,
      "outputs": []
    },
    {
      "cell_type": "code",
      "metadata": {
        "id": "UmmCTPitpc2s"
      },
      "source": [
        "from phi.torch.flow import *"
      ],
      "execution_count": 80,
      "outputs": []
    },
    {
      "cell_type": "code",
      "metadata": {
        "colab": {
          "base_uri": "https://localhost:8080/"
        },
        "id": "ZC0Uy7XapjB0",
        "outputId": "a462ee54-ae74-4ad8-c21f-285e16c5cc05"
      },
      "source": [
        "backend.default_backend()"
      ],
      "execution_count": 81,
      "outputs": [
        {
          "output_type": "execute_result",
          "data": {
            "text/plain": [
              "TensorFlow"
            ]
          },
          "metadata": {
            "tags": []
          },
          "execution_count": 81
        }
      ]
    },
    {
      "cell_type": "code",
      "metadata": {
        "id": "I1IOwBFzpnGG"
      },
      "source": [
        "#@field.jit_compile\n",
        "def simulate_step(velocity):\n",
        "  velocity = advect.mac_cormack(velocity, velocity, 1)\n",
        "  velocity, _, _, _ = fluid.make_incompressible(velocity, d)\n",
        "  velocity = diffuse.explicit(velocity, 0.1, 1)\n",
        "  return velocity\n",
        "\n",
        "\n"
      ],
      "execution_count": 93,
      "outputs": []
    },
    {
      "cell_type": "code",
      "metadata": {
        "colab": {
          "base_uri": "https://localhost:8080/"
        },
        "id": "iUnEo6REp_Ee",
        "outputId": "13485450-fa47-4e8b-a79c-24462d77de1f"
      },
      "source": [
        "\n",
        "%timeit simulate_step(velocity)"
      ],
      "execution_count": 94,
      "outputs": [
        {
          "output_type": "stream",
          "text": [
            "10 loops, best of 5: 133 ms per loop\n"
          ],
          "name": "stdout"
        }
      ]
    },
    {
      "cell_type": "code",
      "metadata": {
        "id": "sn2ZDLf-qUGJ"
      },
      "source": [
        "#TORCH_BACKEND.set_default_device('CPU')"
      ],
      "execution_count": 95,
      "outputs": []
    },
    {
      "cell_type": "code",
      "metadata": {
        "colab": {
          "base_uri": "https://localhost:8080/"
        },
        "id": "9G1PF2xXqvR8",
        "outputId": "0c3eb155-7c3d-4f05-cdee-73af3e3374c0"
      },
      "source": [
        "math.tensor(0).numpy()"
      ],
      "execution_count": 97,
      "outputs": [
        {
          "output_type": "execute_result",
          "data": {
            "text/plain": [
              "array(0)"
            ]
          },
          "metadata": {
            "tags": []
          },
          "execution_count": 97
        }
      ]
    },
    {
      "cell_type": "code",
      "metadata": {
        "id": "fxCnPe0DqynZ"
      },
      "source": [
        ""
      ],
      "execution_count": 97,
      "outputs": []
    },
    {
      "cell_type": "code",
      "metadata": {
        "colab": {
          "base_uri": "https://localhost:8080/"
        },
        "id": "J9mvcZ5orUsK",
        "outputId": "7665a402-48df-4b09-a7f3-ffa89978f58b"
      },
      "source": [
        "scene = Scene.create(\"\", batch=4) # save field and in the same directory"
      ],
      "execution_count": 116,
      "outputs": [
        {
          "output_type": "stream",
          "text": [
            "/usr/local/lib/python3.7/dist-packages/phi/field/_scene.py:182: UserWarning:\n",
            "\n",
            "Failed to copy calling script to scene during Scene.create(): [Errno 2] No such file or directory: '<ipython-input-116-b2e332b0fe93>'\n",
            "\n"
          ],
          "name": "stderr"
        }
      ]
    },
    {
      "cell_type": "code",
      "metadata": {
        "id": "QlxUJoA6rgu8"
      },
      "source": [
        "scene.write(velocity=velocity, frame=1)"
      ],
      "execution_count": 120,
      "outputs": []
    },
    {
      "cell_type": "code",
      "metadata": {
        "id": "4lWOnU-2rrDr"
      },
      "source": [
        "import os"
      ],
      "execution_count": 104,
      "outputs": []
    },
    {
      "cell_type": "code",
      "metadata": {
        "colab": {
          "base_uri": "https://localhost:8080/"
        },
        "id": "Nv53ShtcryUd",
        "outputId": "5d2e0e0e-cd89-46cc-d85f-fd1c5ccb0cb0"
      },
      "source": [
        "os.listdir(os.path.abspath(\"sim_000000\"))"
      ],
      "execution_count": 108,
      "outputs": [
        {
          "output_type": "execute_result",
          "data": {
            "text/plain": [
              "['velocity_000001.npz', 'src', 'velocity_000000.npz']"
            ]
          },
          "metadata": {
            "tags": []
          },
          "execution_count": 108
        }
      ]
    },
    {
      "cell_type": "code",
      "metadata": {
        "colab": {
          "base_uri": "https://localhost:8080/"
        },
        "id": "DiCWu5bpr2GN",
        "outputId": "8c7abb1c-ace6-47cc-cc90-fa59e64c1ee4"
      },
      "source": [
        "scene.read('velocity', frame=1)"
      ],
      "execution_count": 121,
      "outputs": [
        {
          "output_type": "execute_result",
          "data": {
            "text/plain": [
              "StaggeredGrid[(batch=4, x=32, y=32, vector=2), size=(32, 32) along vector, extrapolation=0]"
            ]
          },
          "metadata": {
            "tags": []
          },
          "execution_count": 121
        }
      ]
    },
    {
      "cell_type": "code",
      "metadata": {
        "id": "fkHgsCFCsGBt"
      },
      "source": [
        "scene.put_properties(velocity=2)"
      ],
      "execution_count": 122,
      "outputs": []
    },
    {
      "cell_type": "code",
      "metadata": {
        "colab": {
          "base_uri": "https://localhost:8080/"
        },
        "id": "o3ghWjuRsLA8",
        "outputId": "238ba209-987b-453c-b9a1-46af6e4bb914"
      },
      "source": [
        "velocity = d.staggered_grid(Noise(batch=4, vector=2))"
      ],
      "execution_count": 111,
      "outputs": [
        {
          "output_type": "stream",
          "text": [
            "/usr/local/lib/python3.7/dist-packages/phi/math/backend/_numpy_backend.py:232: RuntimeWarning:\n",
            "\n",
            "overflow encountered in exp\n",
            "\n"
          ],
          "name": "stderr"
        }
      ]
    },
    {
      "cell_type": "code",
      "metadata": {
        "id": "Ya-rlQ_6sdxu"
      },
      "source": [
        "# Domain doesn't have any dimension; just geometry not physics"
      ],
      "execution_count": 123,
      "outputs": []
    },
    {
      "cell_type": "code",
      "metadata": {
        "colab": {
          "base_uri": "https://localhost:8080/"
        },
        "id": "AdxG1fYxtX3S",
        "outputId": "f4432eae-89f4-45f3-e562-1b53242d8b78"
      },
      "source": [
        "scene.write(velocity=d.staggered_grid(Noise(vector=2)))"
      ],
      "execution_count": 125,
      "outputs": [
        {
          "output_type": "stream",
          "text": [
            "/usr/local/lib/python3.7/dist-packages/phi/math/backend/_numpy_backend.py:232: RuntimeWarning:\n",
            "\n",
            "overflow encountered in exp\n",
            "\n"
          ],
          "name": "stderr"
        }
      ]
    },
    {
      "cell_type": "code",
      "metadata": {
        "colab": {
          "base_uri": "https://localhost:8080/"
        },
        "id": "eQtnFInztdka",
        "outputId": "2ec11607-0c19-4760-a7af-b358a3ba3624"
      },
      "source": [
        "scene.read('velocity')"
      ],
      "execution_count": 126,
      "outputs": [
        {
          "output_type": "execute_result",
          "data": {
            "text/plain": [
              "StaggeredGrid[(batch=4, x=32, y=32, vector=2), size=(32, 32) along vector, extrapolation=0]"
            ]
          },
          "metadata": {
            "tags": []
          },
          "execution_count": 126
        }
      ]
    },
    {
      "cell_type": "code",
      "metadata": {
        "id": "fOwh5lBztkvS"
      },
      "source": [
        "field.assert_close(*scene.read('velocity').unstack('batch'))"
      ],
      "execution_count": 128,
      "outputs": []
    },
    {
      "cell_type": "code",
      "metadata": {
        "colab": {
          "base_uri": "https://localhost:8080/"
        },
        "id": "PNxEqzVZtoZs",
        "outputId": "ec23ba52-ab73-4671-95d2-8bded821cd46"
      },
      "source": [
        "#scene.read('velocity').unstack('batch')\n",
        "scene.read('velocity').batch.unstack() # the same thing"
      ],
      "execution_count": 131,
      "outputs": [
        {
          "output_type": "execute_result",
          "data": {
            "text/plain": [
              "(StaggeredGrid[(x=32, y=32, vector=2), size=(32, 32) along vector, extrapolation=0],\n",
              " StaggeredGrid[(x=32, y=32, vector=2), size=(32, 32) along vector, extrapolation=0],\n",
              " StaggeredGrid[(x=32, y=32, vector=2), size=(32, 32) along vector, extrapolation=0],\n",
              " StaggeredGrid[(x=32, y=32, vector=2), size=(32, 32) along vector, extrapolation=0])"
            ]
          },
          "metadata": {
            "tags": []
          },
          "execution_count": 131
        }
      ]
    },
    {
      "cell_type": "code",
      "metadata": {
        "colab": {
          "base_uri": "https://localhost:8080/"
        },
        "id": "I0bdDzeTtynM",
        "outputId": "a9ada1d7-3bfe-4769-b4b3-7f8e70634d6f"
      },
      "source": [
        "math.random_normal(x=4, y=2).y.unstack()"
      ],
      "execution_count": 130,
      "outputs": [
        {
          "output_type": "execute_result",
          "data": {
            "text/plain": [
              "((-1.6592879, 0.828752, 2.8571463, -1.7508237) along x,\n",
              " (-0.11548927, 0.23045056, -0.81321234, -0.87710017) along x)"
            ]
          },
          "metadata": {
            "tags": []
          },
          "execution_count": 130
        }
      ]
    },
    {
      "cell_type": "code",
      "metadata": {
        "colab": {
          "base_uri": "https://localhost:8080/"
        },
        "id": "EyTa0kz2t3Sr",
        "outputId": "e74a423e-2b28-4799-a317-0d51e59671d1"
      },
      "source": [
        "phi.verify() # very useful command to check version"
      ],
      "execution_count": 133,
      "outputs": [
        {
          "output_type": "stream",
          "text": [
            "PhiFlow version 2.0.0rc1\n",
            "Web interface: OK\n",
            "TensorFlow: Installed, 0 GPUs available.\n",
            "PyTorch: Installed, 0 GPUs available.\n",
            "Jax: Installed, 0 GPUs available.\n"
          ],
          "name": "stdout"
        }
      ]
    },
    {
      "cell_type": "code",
      "metadata": {
        "id": "Kqhny6XruHQk"
      },
      "source": [
        "import torch.optim s optim\n",
        "\n",
        "backend.set_global_default_backend(TORCH_BACKEND)\n",
        "\n",
        "\n",
        "#backend.set_global_precision\n",
        "\n",
        "class Net()\n",
        "\n",
        "\n",
        "net = Net().to(TORCH_BACKEND.get_default_device().ref)\n",
        "optimizer = optim.Adam(net.parameters(), lr=1e-3)\n",
        "\n",
        "\n",
        "for step in ModuleViewer().range():\n",
        "  data = DOMAIN.vector_grid(Noise(batch=8, vector=2))\n",
        "\n",
        "  optimizer.zero_grad()\n",
        "  pred_tensor = net(data.values.native('batch, vector, x, y'))\n",
        "  pred_tensor = math.wrap(pred_tensor, 'batch, vector, x, y')\n",
        "  prediction = DOMAIN.vector_grid(pred_tensor)\n",
        "\n",
        "  loss = field.l2_loss(field.divergence(prediction)) + field.l2_loss(prediction - data)\n",
        "  loss.backward()\n",
        "  optimizer.step()"
      ],
      "execution_count": null,
      "outputs": []
    }
  ]
}